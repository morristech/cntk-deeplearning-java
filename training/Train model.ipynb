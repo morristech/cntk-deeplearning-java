{
 "cells": [
  {
   "cell_type": "code",
   "execution_count": 84,
   "metadata": {
    "collapsed": true
   },
   "outputs": [],
   "source": [
    "import numpy as np\n",
    "from sklearn.datasets import load_digits\n",
    "from sklearn.preprocessing import OneHotEncoder\n",
    "from sklearn.model_selection import train_test_split"
   ]
  },
  {
   "cell_type": "markdown",
   "metadata": {},
   "source": [
    "## Load dataset\n",
    "First step is to load up the dataset to train the model with.\n",
    "We're going to use the digits sample dataset from scikit-learn. This dataset contains handwritten digits along with the number that is represented in each sample. \n",
    "\n",
    "The input data is a 8x8 matrix, serialized as a single byte array. \n",
    "The label is a number representing the digit (0 - 9)."
   ]
  },
  {
   "cell_type": "code",
   "execution_count": 87,
   "metadata": {
    "collapsed": true
   },
   "outputs": [],
   "source": [
    "digit_dataset = load_digits(10)\n",
    "\n",
    "X = digit_dataset.data\n",
    "y = digit_dataset.target.reshape(-1,1)\n",
    "\n",
    "encoder = OneHotEncoder()\n",
    "y = encoder.fit_transform(y)\n",
    "y = y.todense()"
   ]
  },
  {
   "cell_type": "markdown",
   "metadata": {},
   "source": [
    "## Create model\n",
    "The model is a three layer dense neural network. We use the `Sequential` function to create a set of layers that are automatically connected. This makes the model much easier on the eyes."
   ]
  },
  {
   "cell_type": "code",
   "execution_count": 111,
   "metadata": {
    "collapsed": true,
    "scrolled": true
   },
   "outputs": [],
   "source": [
    "import cntk as C\n",
    "from cntk.layers import Sequential, Dense, For"
   ]
  },
  {
   "cell_type": "code",
   "execution_count": 113,
   "metadata": {},
   "outputs": [
    {
     "data": {
      "text/plain": [
       "Composite(Dense): Placeholder('keep', [???], [???]) -> Output('Block3163_Output_0', [???], [???])"
      ]
     },
     "execution_count": 113,
     "metadata": {},
     "output_type": "execute_result"
    }
   ],
   "source": [
    "model = Sequential([\n",
    "    Dense(64), \n",
    "    Dense(32),\n",
    "    Dense(10)\n",
    "])"
   ]
  },
  {
   "cell_type": "markdown",
   "metadata": {},
   "source": [
    "To actually train the model you need to define the mathmatical function for the model, by binding an input variable.\n",
    "Since CNTK has a functional API, you simply call the model with the input variable as input."
   ]
  },
  {
   "cell_type": "code",
   "execution_count": 96,
   "metadata": {
    "collapsed": true
   },
   "outputs": [],
   "source": [
    "features = C.input_variable(64)\n",
    "\n",
    "z = model(features)"
   ]
  },
  {
   "cell_type": "markdown",
   "metadata": {},
   "source": [
    "## Define the objective for the model\n",
    "The objective is a categorical cross entropy loss function. A value close to zero indicates that the correct category was found for the handwritten digit. A high value indicates that we're far away from the right answer.\n",
    "\n",
    "We also define an error function to measure performance later on."
   ]
  },
  {
   "cell_type": "code",
   "execution_count": 97,
   "metadata": {
    "collapsed": true
   },
   "outputs": [],
   "source": [
    "label = C.input_variable(10)\n",
    "\n",
    "loss = C.cross_entropy_with_softmax(z, label)\n",
    "label_error = C.classification_error(z, label)"
   ]
  },
  {
   "cell_type": "markdown",
   "metadata": {},
   "source": [
    "## Define the training procedure\n",
    "To train the model we use a Stogastic Gradient Descent function. The trainer instance we create here is going to coordinate the training process using SGD and our loss function."
   ]
  },
  {
   "cell_type": "code",
   "execution_count": 101,
   "metadata": {
    "collapsed": true
   },
   "outputs": [],
   "source": [
    "learning_rate = 0.1\n",
    "learning_rate_schedule = C.learning_parameter_schedule(learning_rate)\n",
    "\n",
    "learner = C.sgd(z.parameters, learning_rate_schedule)\n",
    "\n",
    "trainer = C.Trainer(z, (loss, label_error), [learner])"
   ]
  },
  {
   "cell_type": "markdown",
   "metadata": {},
   "source": [
    "## Train the model\n",
    "To train the model we split the dataset into two pieces, a training set and a validation set.\n",
    "We then use the training set to train the model in 10 epochs with minibatches of 64 samples."
   ]
  },
  {
   "cell_type": "code",
   "execution_count": 102,
   "metadata": {},
   "outputs": [
    {
     "name": "stderr",
     "output_type": "stream",
     "text": [
      "C:\\Anaconda3\\lib\\site-packages\\cntk\\core.py:361: UserWarning: your data is of type \"float64\", but your input variable (uid \"Input1743\") expects \"<class 'numpy.float32'>\". Please convert your data beforehand to speed up training.\n",
      "  (sample.dtype, var.uid, str(var.dtype)))\n",
      "C:\\Anaconda3\\lib\\site-packages\\cntk\\core.py:361: UserWarning: your data is of type \"float64\", but your input variable (uid \"Input1744\") expects \"<class 'numpy.float32'>\". Please convert your data beforehand to speed up training.\n",
      "  (sample.dtype, var.uid, str(var.dtype)))\n"
     ]
    }
   ],
   "source": [
    "minibatch_size = 64\n",
    "\n",
    "train_X, test_X, train_y, test_y = train_test_split(X,y, test_size=0.2)\n",
    "\n",
    "for _epoch in range(1, 10):\n",
    "    for batch_offset in range(0, train_X.shape[0], minibatch_size):\n",
    "        features_batch = train_X[batch_offset:batch_offset + minibatch_size]\n",
    "        labels_batch = train_y[batch_offset:batch_offset + minibatch_size]\n",
    "        \n",
    "        input_map = {\n",
    "            features: features_batch,\n",
    "            label: labels_batch\n",
    "        }\n",
    "\n",
    "        trainer.train_minibatch(input_map)"
   ]
  },
  {
   "cell_type": "markdown",
   "metadata": {},
   "source": [
    "## Validate the model\n",
    "When training is completed, we can validate the model with a similar procedure as in the previous block.\n",
    "The final score that is returned by `test_minibatch` is the final score for the model."
   ]
  },
  {
   "cell_type": "code",
   "execution_count": 114,
   "metadata": {},
   "outputs": [
    {
     "name": "stdout",
     "output_type": "stream",
     "text": [
      "Model score: 0.84375\n",
      "Model score: 0.890625\n",
      "Model score: 0.875\n",
      "Model score: 0.859375\n",
      "Model score: 0.875\n",
      "Model score: 0.925\n"
     ]
    },
    {
     "name": "stderr",
     "output_type": "stream",
     "text": [
      "C:\\Anaconda3\\lib\\site-packages\\cntk\\core.py:361: UserWarning: your data is of type \"float64\", but your input variable (uid \"Input1743\") expects \"<class 'numpy.float32'>\". Please convert your data beforehand to speed up training.\n",
      "  (sample.dtype, var.uid, str(var.dtype)))\n",
      "C:\\Anaconda3\\lib\\site-packages\\cntk\\core.py:361: UserWarning: your data is of type \"float64\", but your input variable (uid \"Input1744\") expects \"<class 'numpy.float32'>\". Please convert your data beforehand to speed up training.\n",
      "  (sample.dtype, var.uid, str(var.dtype)))\n"
     ]
    }
   ],
   "source": [
    "for batch_offset in range(0, len(test_X), minibatch_size):\n",
    "    features_batch = test_X[batch_offset:batch_offset + minibatch_size]\n",
    "    labels_batch = test_y[batch_offset:batch_offset + minibatch_size]\n",
    "        \n",
    "    input_map = {\n",
    "        features: features_batch,\n",
    "        label: labels_batch\n",
    "    }\n",
    "        \n",
    "    score = trainer.test_minibatch(input_map)    \n",
    "    \n",
    "    print(\"Model score: {}\".format(score))"
   ]
  },
  {
   "cell_type": "code",
   "execution_count": 108,
   "metadata": {},
   "outputs": [
    {
     "name": "stdout",
     "output_type": "stream",
     "text": [
      "0.925\n"
     ]
    }
   ],
   "source": [
    "print(score)"
   ]
  },
  {
   "cell_type": "markdown",
   "metadata": {},
   "source": [
    "## Store the model\n",
    "The final step is to store the model in ONNX format so we can import it in Java later on."
   ]
  },
  {
   "cell_type": "code",
   "execution_count": 109,
   "metadata": {
    "collapsed": true
   },
   "outputs": [],
   "source": [
    "z.save('model.onnx', cntk.ModelFormat.ONNX)"
   ]
  }
 ],
 "metadata": {
  "kernelspec": {
   "display_name": "Python 3",
   "language": "python",
   "name": "python3"
  },
  "language_info": {
   "codemirror_mode": {
    "name": "ipython",
    "version": 3
   },
   "file_extension": ".py",
   "mimetype": "text/x-python",
   "name": "python",
   "nbconvert_exporter": "python",
   "pygments_lexer": "ipython3",
   "version": "3.6.3"
  }
 },
 "nbformat": 4,
 "nbformat_minor": 2
}
